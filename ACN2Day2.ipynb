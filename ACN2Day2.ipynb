{
  "cells": [
    {
      "cell_type": "markdown",
      "metadata": {
        "id": "sMa8DSEvkF5k"
      },
      "source": [
        "**Importing the mnist dataset**\n",
        "\n",
        "In the first part of this assignment we are going to import the MNIST dataset. MNIST is a famous dataset consisting of many samples of handwritten digits from 0 to 9 with their corresponding label. In this part you don't need to do anything just run the code to import the dataset and visualize a couple of samples."
      ]
    },
    {
      "cell_type": "code",
      "execution_count": 1,
      "metadata": {
        "id": "RwC5kM7UhFzx"
      },
      "outputs": [],
      "source": [
        "# import subprocess\n",
        "\n",
        "# # Installation on Google Colab\n",
        "# try:\n",
        "#     import google.colab\n",
        "#     subprocess.run(['python', '-m', 'pip', 'install', 'skorch' , 'torch'])\n",
        "# except ImportError:\n",
        "#     pass"
      ]
    },
    {
      "cell_type": "code",
      "execution_count": 2,
      "metadata": {
        "id": "-wkcEcDXhziE"
      },
      "outputs": [],
      "source": [
        "from sklearn.datasets import fetch_openml\n",
        "from sklearn.model_selection import train_test_split\n",
        "import numpy as np\n",
        "import matplotlib.pyplot as plt\n",
        "from itertools import groupby\n",
        "import random"
      ]
    },
    {
      "cell_type": "code",
      "execution_count": 3,
      "metadata": {
        "colab": {
          "base_uri": "https://localhost:8080/"
        },
        "id": "Iv55O0O6h3V1",
        "outputId": "2233c614-6c98-4a1c-db35-2df9cc34888a"
      },
      "outputs": [
        {
          "name": "stderr",
          "output_type": "stream",
          "text": [
            "/home/luka/anaconda3/envs/NDDL/lib/python3.12/site-packages/sklearn/datasets/_openml.py:1002: FutureWarning: The default value of `parser` will change from `'liac-arff'` to `'auto'` in 1.4. You can set `parser='auto'` to silence this warning. Therefore, an `ImportError` will be raised from 1.4 if the dataset is dense and pandas is not installed. Note that the pandas parser may return different data types. See the Notes Section in fetch_openml's API doc for details.\n",
            "  warn(\n"
          ]
        }
      ],
      "source": [
        "mnist = fetch_openml('mnist_784', as_frame=False, cache=False)"
      ]
    },
    {
      "cell_type": "code",
      "execution_count": 4,
      "metadata": {
        "id": "8M15rzoAh8ZM"
      },
      "outputs": [],
      "source": [
        "images = mnist.data.astype('float32')\n",
        "labels = mnist.target.astype('int64')\n",
        "images /= 255.0"
      ]
    },
    {
      "cell_type": "code",
      "execution_count": 5,
      "metadata": {
        "id": "58rfOhKiiToi"
      },
      "outputs": [],
      "source": [
        "def plot_example(X, y):\n",
        "    \"\"\"Plot the first 5 images and their labels in a row.\"\"\"\n",
        "    for i, (img, y) in enumerate(zip(X[:5].reshape(5, 28, 28), y[:5])):\n",
        "        plt.subplot(151 + i)\n",
        "        plt.imshow(img)\n",
        "        plt.xticks([])\n",
        "        plt.yticks([])\n",
        "        plt.title(y)"
      ]
    },
    {
      "cell_type": "code",
      "execution_count": null,
      "metadata": {
        "colab": {
          "base_uri": "https://localhost:8080/",
          "height": 144
        },
        "id": "HGBnik9Lju-a",
        "outputId": "c4451673-96bc-41da-e167-cfa875dde5a3"
      },
      "outputs": [
        {
          "data": {
            "image/png": "[encoded data removed]",
            "text/plain": [
              "<Figure size 640x480 with 5 Axes>"
            ]
          },
          "metadata": {},
          "output_type": "display_data"
        }
      ],
      "source": [
        "plot_example(images, labels)"
      ]
    },
    {
      "cell_type": "code",
      "execution_count": 6,
      "metadata": {
        "colab": {
          "base_uri": "https://localhost:8080/"
        },
        "id": "srUZuH-Mj1dX",
        "outputId": "7fa27a7b-2425-474d-db90-e6fa17c28041"
      },
      "outputs": [
        {
          "data": {
            "text/plain": [
              "(784,)"
            ]
          },
          "execution_count": 6,
          "metadata": {},
          "output_type": "execute_result"
        }
      ],
      "source": [
        "images[0].shape"
      ]
    },
    {
      "cell_type": "markdown",
      "metadata": {
        "id": "SAxu0MZLk9Z6"
      },
      "source": [
        "**Network**\n",
        "\n",
        "This part is the code that we completed together. We have the PC-layer class that defines a single predictive coding layer and a network class that can build a predictive coding network by putting together PC-layers. This is a complete and working version of the code from yesterday. You don't need to add anything to it just run this block of code. you can use this code to check your work from yesterday"
      ]
    },
    {
      "cell_type": "code",
      "execution_count": 25,
      "metadata": {
        "id": "JlGJPzGoljb1"
      },
      "outputs": [],
      "source": [
        "import numpy as np\n",
        "class PC_layer:\n",
        "    def __init__(self,n: int,n_next:int=0,*, inf_rate=0.05, learn_rate=0.005):\n",
        "        self.n = n\n",
        "        self.n_next = n_next\n",
        "        self.restart_activity()\n",
        "        self.weights=[]\n",
        "        if n_next is not None and n_next != 0:\n",
        "            self.weights = self.generate_xavier_random_weights(self.n, self.n_next)\n",
        "        self.inf_rate = np.float32(inf_rate)\n",
        "        self.learn_rate = np.float32(learn_rate)\n",
        "        return\n",
        "\n",
        "    def generate_xavier_random_weights(self, n_in:int, n_out:int, *, dist='uniform'):\n",
        "        # using uniform rand:\n",
        "        if dist == 'uniform':\n",
        "            return (np.random.rand(n_in, n_out) - 0.5) * np.sqrt(2/(n_in + n_out))\n",
        "        if dist == 'normal':\n",
        "            return np.random.randn(n_in, n_out) * np.sqrt(2/(n_in + n_out))\n",
        "        raise NotImplementedError(f\"Unknown distribution: {dist}. Supported distributions are: 'uniform', 'normal'\")\n",
        "\n",
        "    def restart_activity(self):\n",
        "        self.r = np.zeros([self.n], dtype = np.float32)\n",
        "        self.e = np.zeros([self.n], dtype = np.float32)\n",
        "\n",
        "    def inference_step_calc_error(self, r_next):\n",
        "        '''calculates the error from next layer's prediction\n",
        "        '''\n",
        "        is_last_layer = self.n_next == 0\n",
        "        if is_last_layer:\n",
        "            return\n",
        "        # prediction is calculated based on the activity of next layer\n",
        "        pred = self.weights.dot(r_next)\n",
        "        # error is the difference between the prediction and current activity\n",
        "        self.e  = self.r - pred\n",
        "\n",
        "    def inference_step_calc_r(self, BU_error):\n",
        "        is_first_layer = len(BU_error) == 0\n",
        "        if is_first_layer:\n",
        "            return\n",
        "        # the activity is adjusted using the value of bottom-up error and activity of error neurons -\n",
        "        # dont forget the inference rate\n",
        "        dr = self.inf_rate * (BU_error[0] - self.e)\n",
        "        self.r += dr\n",
        "\n",
        "\n",
        "    def learning_step(self,  r_next):\n",
        "        dW = np.outer(self.e, r_next)\n",
        "        return dW\n",
        "\n",
        "    def update_weights(self, dW):\n",
        "        self.weights += self.learn_rate * dW\n",
        "\n",
        "    def calculate_MSE(self):\n",
        "        MSE = sum(self.e**2)/ self.n\n",
        "        return MSE\n",
        "\n",
        "\n",
        "\n",
        "class Network():\n",
        "    def __init__(self, architecture: list[int], *, n_iter_inference:int=40, inf_rate = 0.05, learn_rate = 0.005, **kwargs):\n",
        "        self.n_layers = len(architecture)\n",
        "        self.architecture = architecture\n",
        "        self.n_iter_inference = n_iter_inference\n",
        "        self.layers: list[PC_layer] = []\n",
        "        for i in range(self.n_layers-1):\n",
        "            self.layers.append(PC_layer(self.architecture[i],self.architecture[i+1]))\n",
        "        self.layers.append(PC_layer(self.architecture[-1]))\n",
        "        self.inf_rate = inf_rate\n",
        "        self.learn_rate = learn_rate\n",
        "        self.standardise_layer_params()\n",
        "\n",
        "    def standardise_layer_params(self):\n",
        "        for l in self.layers:\n",
        "            l.inf_rate = self.inf_rate\n",
        "            l.learn_rate = self.learn_rate\n",
        "\n",
        "\n",
        "    def reset_rates(self):\n",
        "        for layer in self.layers:\n",
        "            layer.restart_activity()\n",
        "\n",
        "    def inference_step(self, r_M = None, BU_error = []):\n",
        "        #perform the inference step for every layer\n",
        "        for (l, layer) in enumerate(self.layers):\n",
        "            if l<len(self.layers)-1:\n",
        "                r_next = self.layers[l+1].r\n",
        "            else:\n",
        "                r_next = r_M\n",
        "            layer.inference_step_calc_error( r_next)\n",
        "            layer.inference_step_calc_r(BU_error = BU_error)\n",
        "            if r_next is not None:\n",
        "                BU_error = [layer.weights.T.dot(layer.e)]\n",
        "        return\n",
        "\n",
        "    def infer(self, image, initialize =  True):\n",
        "        if initialize:\n",
        "            self.reset_rates()\n",
        "\n",
        "        I = np.array(image).reshape([-1])\n",
        "        self.layers[0].r = I\n",
        "        for i in range(self.n_iter_inference):\n",
        "            self.inference_step()\n",
        "        return\n",
        "\n",
        "    def learning(self, r_M = None):\n",
        "        for l, layer in enumerate(self.layers):\n",
        "            if l<len(self.layers)-1:\n",
        "                r_next = self.layers[l+1].r\n",
        "            elif r_M is not None:\n",
        "                r_next = r_M\n",
        "            else:\n",
        "                return\n",
        "            dw=layer.learning_step(r_next = r_next)\n",
        "            layer.update_weights(dw)\n",
        "        return\n",
        "\n",
        "    def train(self, dataset , *, type='serial', epochs = 100, items_per_batch=100):\n",
        "        if type == 'serial':\n",
        "            self.train_serial(dataset, epochs)\n",
        "        elif type == 'batch':\n",
        "            self.train_batch(dataset, epochs, items_per_batch)\n",
        "\n",
        "    def train_serial(self, dataset , epochs = 100):\n",
        "        for epoch in range(epochs):\n",
        "            for image in dataset:\n",
        "                self.infer(image)\n",
        "                self.learning()\n",
        "\n",
        "    \n",
        "    def train_batch(self, dataset, epochs=100, items_per_batch=100):\n",
        "        num_images = len(dataset)\n",
        "\n",
        "        for epoch in range(epochs):\n",
        "            for batch_start in range(0, num_images, items_per_batch):\n",
        "                batch_end = min(batch_start + items_per_batch, num_images)\n",
        "                batch_images = dataset[batch_start:batch_end]\n",
        "\n",
        "                # Perform inference on the entire batch\n",
        "                for image in batch_images:\n",
        "                    self.infer(image)\n",
        "\n",
        "                # Perform learning on the entire batch\n",
        "                for image in batch_images:\n",
        "                    self.learning()\n",
        "\n",
        "        # After training, reset rates to ensure the next operation starts with a clean state\n",
        "        self.reset_rates()\n",
        "\n",
        "\n"
      ]
    },
    {
      "cell_type": "markdown",
      "metadata": {
        "id": "kyoxAdiZoNQr"
      },
      "source": [
        "**Building and training a network**\n",
        "\n",
        "Finally, it's time to get to work and train your first Predictive coding network. Please read the code carefully and make sure you understand how to work with this network."
      ]
    },
    {
      "cell_type": "code",
      "execution_count": 30,
      "metadata": {
        "id": "n3eSIQUCoKfj"
      },
      "outputs": [],
      "source": [
        "M1 = Network([784,625,400])\n",
        "#this commands creates a network with 3 layers. This network is called M1. first layer of M1 is the input layer and has 784 neurons(do you know why?), seond and\n",
        "#third layer have 625 and neurons respectively. You can actually change these two numbers and see what happens\n",
        "\n",
        "#let's try to train this network on the MNIST dataset (you can use as many input data and as many epochs as you like)\n",
        "dataset = images[0:150]  # we only \\ use part of the dataset to train our network\n",
        "# M1.train(dataset, type='batch', items_per_batch=30, epochs=10)\n",
        "M1.train(dataset, type='serial', epochs=10)\n"
      ]
    },
    {
      "cell_type": "markdown",
      "metadata": {
        "id": "PKFa4rCDfZnw"
      },
      "source": [
        "Note that we only train the network once and after that we use it to infer images (so no more learning is involved)"
      ]
    },
    {
      "cell_type": "markdown",
      "metadata": {
        "id": "tRDEJCXtWq3d"
      },
      "source": [
        "**Reconstructing the input**\n",
        "As we discussed in the class, all the network is trying to do is to build a representation of the sensory input that it is receiving. We can actually check how good these representations are by using them to reconstruct the input. Make sure that you understand how this code works\n",
        "\n",
        "Try this yourself by showing the network a different novel input and an input it has seen before.\n",
        "\n",
        "Also, can you try to reconstruct the input from the layer above this one? Hint: you need to multiply the rates of the 3rd layer by the weights of the 2nd layer and then multiply the results by the weights of the first layer. Explain to each other what you think this means and why we do this."
      ]
    },
    {
      "cell_type": "code",
      "execution_count": 29,
      "metadata": {
        "colab": {
          "base_uri": "https://localhost:8080/",
          "height": 447
        },
        "id": "zSbz7vQ9aFnS",
        "outputId": "3bbe44aa-b8da-46b6-a36f-d4b63fb2e0ab"
      },
      "outputs": [
        {
          "data": {
            "text/plain": [
              "<matplotlib.image.AxesImage at 0x7f80d8af6c30>"
            ]
          },
          "execution_count": 29,
          "metadata": {},
          "output_type": "execute_result"
        },
        {
          "data": {
            "image/png": "[encoded data removed]",
            "text/plain": [
              "<Figure size 640x480 with 1 Axes>"
            ]
          },
          "metadata": {},
          "output_type": "display_data"
        }
      ],
      "source": [
        "M1.infer(images[40])      #showing the network a novel input and let it run inference\n",
        "recon = M1.layers[0].weights.dot(M1.layers[1].r)\n",
        "plt.imshow(recon.reshape(28,28))"
      ]
    },
    {
      "cell_type": "code",
      "execution_count": null,
      "metadata": {
        "id": "mdzCKVyMga_X"
      },
      "outputs": [],
      "source": [
        "# your code here"
      ]
    },
    {
      "cell_type": "markdown",
      "metadata": {
        "id": "SrLzzRjsp0t8"
      },
      "source": [
        "**Understanding the network**\n",
        "Play with the following parameters and try to understand how they affect the training procedure:\n",
        "\n",
        "*   Inference rate\n",
        "*   Learning rate\n",
        "*   Number of inference steps\n",
        "\n"
      ]
    },
    {
      "cell_type": "code",
      "execution_count": null,
      "metadata": {
        "id": "ou6U7OwgpkkU"
      },
      "outputs": [],
      "source": [
        "#here is how you can change the inference rate\n",
        "M1.inf_rate = 0.1\n",
        "M1.standardise_layer_params() #don't forget to call this function everytime you change inf_rate or learn_rate"
      ]
    },
    {
      "cell_type": "code",
      "execution_count": null,
      "metadata": {
        "id": "704iJ0ZZqtwg"
      },
      "outputs": [],
      "source": [
        "# your code here"
      ]
    },
    {
      "cell_type": "markdown",
      "metadata": {
        "id": "8QDv88AhaJu9"
      },
      "source": [
        "  How does the Mean Squared Error (MSE) change during the training phase of the network? Calculate MSE for every layer and plot it against training epochs.\n",
        "  Hint: You can train the network yourself here without using the M1.train command, just use the M1.infer and M1.learning inside a for loop and make sure you calculate the error at each epoch."
      ]
    },
    {
      "cell_type": "code",
      "execution_count": null,
      "metadata": {
        "id": "knSW8XcPa0n8"
      },
      "outputs": [],
      "source": [
        "# your code here"
      ]
    },
    {
      "cell_type": "markdown",
      "metadata": {
        "id": "g5PCVqG1q76n"
      },
      "source": [
        "**Bonus task: Denoising images**\n",
        "Let's see how your network holds up against noise.\n",
        "\n",
        "1. Train your network on the original (not noisy) images.\n",
        "2. Add Gaussian noise to some images using the function that is provided to you.\n",
        "3. Feed the network with the noisy images and then reconstruct the input. What do you observe?"
      ]
    },
    {
      "cell_type": "code",
      "execution_count": null,
      "metadata": {
        "id": "VzIVApj_rh4Y"
      },
      "outputs": [],
      "source": [
        "def add_noise(image,mean_n=0, std_n=0.1):\n",
        "    noise = np.random.normal(mean_n, std_n, image.shape)\n",
        "    noisy_image = np.clip(image + noise, 0, 1)\n",
        "    return noisy_image"
      ]
    },
    {
      "cell_type": "code",
      "execution_count": null,
      "metadata": {
        "id": "srb1rAv1u-V1"
      },
      "outputs": [],
      "source": [
        "# your code here"
      ]
    },
    {
      "cell_type": "markdown",
      "metadata": {
        "id": "jtDEErokrtkK"
      },
      "source": [
        "**Bonus task: Classification**\n",
        "\n",
        "Are the representations learned by the network for different classes distinct enough to be classified by a linear classifier? let's see.\n",
        "1. Train your network on the MNIST dataset.\n",
        "2. Use the trained network to generate latent representations of MNIST images\n",
        "3. Train a linear classifier on the latent representations and report its performance.\n"
      ]
    },
    {
      "cell_type": "code",
      "execution_count": null,
      "metadata": {
        "id": "hoAD3-DurnR_"
      },
      "outputs": [],
      "source": [
        "# your code here"
      ]
    },
    {
      "cell_type": "markdown",
      "metadata": {
        "id": "XYkzHtZGtBfY"
      },
      "source": [
        "**Bonus: Theoretical questions**\n",
        "We have discussed the computational and algorithmic accounts of predictive coding. Now its time to take a look at the implementationl account. Read one or two of the papers below and prepare a short summary of what the authors suggest on how predictive coding can potentially be implemented in the brain.\n",
        "\n",
        "\n",
        "\n",
        "*   [Where is the error? Hierarchical predictive coding through dendritic error computation](https://www.cell.com/action/showPdf?pii=S0166-2236%2822%2900186-2)\n",
        "*   [Predictive Processing: A Canonical Cortical Computation](https://www.sciencedirect.com/science/article/pii/S0896627318308572)\n",
        "\n"
      ]
    },
    {
      "cell_type": "code",
      "execution_count": null,
      "metadata": {
        "id": "jtmUlE6ltahh"
      },
      "outputs": [],
      "source": []
    }
  ],
  "metadata": {
    "colab": {
      "provenance": []
    },
    "kernelspec": {
      "display_name": "Python 3",
      "name": "python3"
    },
    "language_info": {
      "codemirror_mode": {
        "name": "ipython",
        "version": 3
      },
      "file_extension": ".py",
      "mimetype": "text/x-python",
      "name": "python",
      "nbconvert_exporter": "python",
      "pygments_lexer": "ipython3",
      "version": "3.12.0"
    }
  },
  "nbformat": 4,
  "nbformat_minor": 0
}
